{
 "cells": [
  {
   "cell_type": "markdown",
   "id": "2047a608",
   "metadata": {},
   "source": [
    "1. Importing Libraries"
   ]
  },
  {
   "cell_type": "code",
   "execution_count": 1,
   "id": "eef733a1",
   "metadata": {},
   "outputs": [],
   "source": [
    "# Import libraries\n",
    "import pandas as p\n",
    "import numpy as np\n",
    "import os"
   ]
  },
  {
   "cell_type": "markdown",
   "id": "8463f8b6",
   "metadata": {},
   "source": [
    "2. Working with Python datatypes"
   ]
  },
  {
   "cell_type": "code",
   "execution_count": 1,
   "id": "2e5549ed",
   "metadata": {},
   "outputs": [],
   "source": [
    "x = 98"
   ]
  },
  {
   "cell_type": "code",
   "execution_count": 2,
   "id": "ab585386",
   "metadata": {},
   "outputs": [],
   "source": [
    "y = 2"
   ]
  },
  {
   "cell_type": "code",
   "execution_count": 3,
   "id": "dcf64ae5",
   "metadata": {},
   "outputs": [
    {
     "name": "stdout",
     "output_type": "stream",
     "text": [
      "100\n"
     ]
    }
   ],
   "source": [
    "print(x+y)"
   ]
  },
  {
   "cell_type": "code",
   "execution_count": 4,
   "id": "ddc836be",
   "metadata": {},
   "outputs": [
    {
     "name": "stdout",
     "output_type": "stream",
     "text": [
      "100\n"
     ]
    }
   ],
   "source": [
    "print(x+y+2-2)"
   ]
  },
  {
   "cell_type": "code",
   "execution_count": 6,
   "id": "f1fb3707",
   "metadata": {},
   "outputs": [
    {
     "name": "stdout",
     "output_type": "stream",
     "text": [
      "100\n"
     ]
    }
   ],
   "source": [
    "print(200-(x+y))"
   ]
  },
  {
   "cell_type": "code",
   "execution_count": 7,
   "id": "1bc09f68",
   "metadata": {},
   "outputs": [],
   "source": [
    "x = 2.1"
   ]
  },
  {
   "cell_type": "code",
   "execution_count": 8,
   "id": "079b63d2",
   "metadata": {},
   "outputs": [],
   "source": [
    "y = 1.2"
   ]
  },
  {
   "cell_type": "code",
   "execution_count": 40,
   "id": "465930c0",
   "metadata": {},
   "outputs": [
    {
     "ename": "TypeError",
     "evalue": "unsupported operand type(s) for /: 'float' and 'str'",
     "output_type": "error",
     "traceback": [
      "\u001b[1;31m---------------------------------------------------------------------------\u001b[0m",
      "\u001b[1;31mTypeError\u001b[0m                                 Traceback (most recent call last)",
      "Cell \u001b[1;32mIn[40], line 1\u001b[0m\n\u001b[1;32m----> 1\u001b[0m \u001b[38;5;28mprint\u001b[39m(\u001b[43mx\u001b[49m\u001b[38;5;241;43m/\u001b[39;49m\u001b[43my\u001b[49m)\n",
      "\u001b[1;31mTypeError\u001b[0m: unsupported operand type(s) for /: 'float' and 'str'"
     ]
    }
   ],
   "source": [
    "print(x/y)"
   ]
  },
  {
   "cell_type": "code",
   "execution_count": 1,
   "id": "b04452bf",
   "metadata": {},
   "outputs": [
    {
     "ename": "NameError",
     "evalue": "name 'x' is not defined",
     "output_type": "error",
     "traceback": [
      "\u001b[1;31m---------------------------------------------------------------------------\u001b[0m",
      "\u001b[1;31mNameError\u001b[0m                                 Traceback (most recent call last)",
      "Cell \u001b[1;32mIn[1], line 1\u001b[0m\n\u001b[1;32m----> 1\u001b[0m \u001b[38;5;28mprint\u001b[39m(\u001b[43mx\u001b[49m\u001b[38;5;241m/\u001b[39my)\n",
      "\u001b[1;31mNameError\u001b[0m: name 'x' is not defined"
     ]
    }
   ],
   "source": [
    "print(x/y)"
   ]
  },
  {
   "cell_type": "code",
   "execution_count": 2,
   "id": "5c73ea0c",
   "metadata": {},
   "outputs": [],
   "source": [
    "x = 1.2"
   ]
  },
  {
   "cell_type": "code",
   "execution_count": 3,
   "id": "dc4a5a66",
   "metadata": {},
   "outputs": [],
   "source": [
    "y = 2.3"
   ]
  },
  {
   "cell_type": "code",
   "execution_count": 4,
   "id": "3ee63877",
   "metadata": {},
   "outputs": [
    {
     "name": "stdout",
     "output_type": "stream",
     "text": [
      "0.5217391304347826\n"
     ]
    }
   ],
   "source": [
    "print(x/y)"
   ]
  },
  {
   "cell_type": "code",
   "execution_count": 5,
   "id": "43808cf2",
   "metadata": {},
   "outputs": [],
   "source": [
    "a = 'h'"
   ]
  },
  {
   "cell_type": "code",
   "execution_count": 6,
   "id": "d4dd3b19",
   "metadata": {},
   "outputs": [],
   "source": [
    "b = 'i'"
   ]
  },
  {
   "cell_type": "code",
   "execution_count": 7,
   "id": "235df5ed",
   "metadata": {},
   "outputs": [
    {
     "name": "stdout",
     "output_type": "stream",
     "text": [
      "hi\n"
     ]
    }
   ],
   "source": [
    "print(a+b)"
   ]
  },
  {
   "cell_type": "code",
   "execution_count": 8,
   "id": "2281e0a5",
   "metadata": {},
   "outputs": [],
   "source": [
    "c = 'I am learning python. '"
   ]
  },
  {
   "cell_type": "code",
   "execution_count": 9,
   "id": "a7563f8f",
   "metadata": {},
   "outputs": [],
   "source": [
    "d = 'I am writing strings.'"
   ]
  },
  {
   "cell_type": "code",
   "execution_count": 10,
   "id": "8ee1d598",
   "metadata": {},
   "outputs": [
    {
     "name": "stdout",
     "output_type": "stream",
     "text": [
      "I am learning python. I am writing strings.\n"
     ]
    }
   ],
   "source": [
    "print(c+d)"
   ]
  },
  {
   "cell_type": "code",
   "execution_count": null,
   "id": "0462ef8a",
   "metadata": {},
   "outputs": [],
   "source": []
  }
 ],
 "metadata": {
  "kernelspec": {
   "display_name": "Python 3 (ipykernel)",
   "language": "python",
   "name": "python3"
  },
  "language_info": {
   "codemirror_mode": {
    "name": "ipython",
    "version": 3
   },
   "file_extension": ".py",
   "mimetype": "text/x-python",
   "name": "python",
   "nbconvert_exporter": "python",
   "pygments_lexer": "ipython3",
   "version": "3.10.9"
  }
 },
 "nbformat": 4,
 "nbformat_minor": 5
}
